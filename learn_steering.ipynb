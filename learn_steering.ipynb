{
 "cells": [
  {
   "cell_type": "markdown",
   "metadata": {},
   "source": [
    "A script for learn a model to hold a car in a lane. The best models were random forest and gradient boosting. Since the random forest works faster, it was decided to use it."
   ]
  },
  {
   "cell_type": "code",
   "execution_count": null,
   "metadata": {},
   "outputs": [],
   "source": [
    "import cv2\n",
    "import numpy as np\n",
    "from os import listdir\n",
    "from matplotlib import pyplot as plt\n",
    "import pandas as pd"
   ]
  },
  {
   "cell_type": "code",
   "execution_count": null,
   "metadata": {},
   "outputs": [],
   "source": [
    "images_dir = 'nimages'\n",
    "img_size = (128, 128)"
   ]
  },
  {
   "cell_type": "code",
   "execution_count": null,
   "metadata": {},
   "outputs": [],
   "source": [
    "df = pd.read_csv('joy.csv')\n",
    "dfz = df.loc[(df['axis'] == 'x')]\n",
    "dfy = df.loc[(df['axis'] == 'z')]"
   ]
  },
  {
   "cell_type": "code",
   "execution_count": null,
   "metadata": {},
   "outputs": [],
   "source": [
    "def shuffle_in_unison(a, b):\n",
    "    # courtsey http://stackoverflow.com/users/190280/josh-bleecher-snyder\n",
    "    assert len(a) == len(b)\n",
    "    shuffled_a = np.empty(a.shape, dtype=a.dtype)\n",
    "    shuffled_b = np.empty(b.shape, dtype=b.dtype)\n",
    "    permutation = np.random.permutation(len(a))\n",
    "    for old_index, new_index in enumerate(permutation):\n",
    "        shuffled_a[new_index] = a[old_index]\n",
    "        shuffled_b[new_index] = b[old_index]\n",
    "    return shuffled_a, shuffled_b"
   ]
  },
  {
   "cell_type": "code",
   "execution_count": null,
   "metadata": {},
   "outputs": [],
   "source": [
    "def create_Xt_Yt(X, y, percentage=0.8):\n",
    "    p = int(len(X) * percentage)\n",
    "    X_train = X[0:p]\n",
    "    Y_train = y[0:p]\n",
    "\n",
    "    X_test = X[p:]\n",
    "    Y_test = y[p:]\n",
    "\n",
    "    return X_train, X_test, Y_train, Y_test"
   ]
  },
  {
   "cell_type": "code",
   "execution_count": null,
   "metadata": {},
   "outputs": [],
   "source": [
    "def make_x_y():\n",
    "    x, y = [], []\n",
    "    for i, imgn in enumerate(listdir(images_dir)):  # iteration over images in a folder\n",
    "        try:\n",
    "                img = cv2.imread(images_dir+'/'+imgn, cv2.IMREAD_ANYCOLOR)\n",
    "                res = cv2.resize(img, img_size)\n",
    "                res = res.ravel()\n",
    "                x.append(res)\n",
    "                \n",
    "                time = imgn[:-4]#get time from image's name\n",
    "                prev_listz = np.array(dfz.loc[dfz['time'] <= np.float64(time)]['val'])\n",
    "                prev_listy = np.array(dfy.loc[dfy['time'] <= np.float64(time)]['val'])\n",
    "                \n",
    "                try:\n",
    "                    prevz =  prev_listz[-1]\n",
    "                    \n",
    "                except:\n",
    "                    prevz = 0.0\n",
    "                    \n",
    "                y.append([prevz])\n",
    "                \n",
    "        except Exception as e:\n",
    "            print(e)\n",
    "            print(i)\n",
    "            \n",
    "    x = np.array(x)\n",
    "    y = np.array(y)\n",
    "    \n",
    "    x, y = shuffle_in_unison(x, y) #  shuffle dataset\n",
    "    x_train, x_test, y_train, y_test = create_Xt_Yt(x, y)\n",
    "    \n",
    "    return (np.array(x_train), np.array(y_train)), (np.array(x_test), np.array(y_test))"
   ]
  },
  {
   "cell_type": "code",
   "execution_count": null,
   "metadata": {
    "scrolled": true
   },
   "outputs": [],
   "source": [
    "(x_train, y_train), (x_test, y_test) = make_x_y()\n",
    "print(x_train.shape)"
   ]
  },
  {
   "cell_type": "code",
   "execution_count": null,
   "metadata": {},
   "outputs": [],
   "source": [
    "import seaborn as sns\n",
    "sns.distplot(y_train[:,0])"
   ]
  },
  {
   "cell_type": "code",
   "execution_count": null,
   "metadata": {},
   "outputs": [],
   "source": [
    "from sklearn.model_selection import learning_curve\n",
    "from sklearn.metrics import r2_score, make_scorer\n",
    "from sklearn.tree import DecisionTreeRegressor\n",
    "\n",
    "def plot_with_err(x, data, **kwargs):\n",
    "    mu, std = data.mean(1), data.std(1)\n",
    "    lines = plt.plot(x, mu, '-', **kwargs)\n",
    "    plt.fill_between(x, mu - std, mu + std, edgecolor='none',\n",
    "    facecolor=lines[0].get_color(), alpha=0.2)\n",
    "    \n",
    "def plot_learning_curve(degree=2, alpha=0.01):\n",
    "    ftwo_scorer = make_scorer(r2_score)\n",
    "    train_sizes = np.linspace(0.05, 1, 20)\n",
    "    reg = DecisionTreeRegressor(max_depth=30, max_features=100, random_state=10, min_samples_leaf=10)\n",
    "    N_train, val_train, val_test = learning_curve(reg,\n",
    "    x_train, y_train, train_sizes=train_sizes, cv=5,\n",
    "    scoring=ftwo_scorer)\n",
    "    plot_with_err(N_train, val_train, label='training scores')\n",
    "    plot_with_err(N_train, val_test, label='validation scores')\n",
    "    plt.xlabel('Training Set Size'); plt.ylabel('AUC')\n",
    "    plt.legend()\n",
    "\n",
    "plot_learning_curve(degree=2, alpha=10)"
   ]
  },
  {
   "cell_type": "code",
   "execution_count": null,
   "metadata": {},
   "outputs": [],
   "source": [
    "from sklearn.ensemble import RandomForestRegressor\n",
    "reg = RandomForestRegressor(max_features=450, random_state=100, n_estimators=100, n_jobs=4, min_samples_leaf=1)\n",
    "reg.fit(x_train, y_train)\n",
    "print(reg.score(x_train, y_train), reg.score(x_test, y_test))"
   ]
  },
  {
   "cell_type": "code",
   "execution_count": null,
   "metadata": {},
   "outputs": [],
   "source": [
    "import pickle\n",
    "with open('tree.pickle', 'wb') as f:\n",
    "    pickle.dump(reg, f)"
   ]
  }
 ],
 "metadata": {
  "kernelspec": {
   "display_name": "Python 3",
   "language": "python",
   "name": "python3"
  },
  "language_info": {
   "codemirror_mode": {
    "name": "ipython",
    "version": 3
   },
   "file_extension": ".py",
   "mimetype": "text/x-python",
   "name": "python",
   "nbconvert_exporter": "python",
   "pygments_lexer": "ipython3",
   "version": "3.6.8"
  }
 },
 "nbformat": 4,
 "nbformat_minor": 2
}
