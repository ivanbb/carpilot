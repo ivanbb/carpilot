{
 "cells": [
  {
   "cell_type": "markdown",
   "metadata": {},
   "source": [
    "This script is responsible for driving, works on Linux os."
   ]
  },
  {
   "cell_type": "code",
   "execution_count": null,
   "metadata": {},
   "outputs": [],
   "source": [
    "from Xlib import display, X\n",
    "from PIL import Image\n",
    "import cv2\n",
    "import numpy as np\n",
    "from joystick import LinuxVirtualJoystick\n",
    "dsp = display.Display()\n",
    "root = dsp.screen().root\n",
    "roi = [2220,425,400,300]\n",
    "gear_roi = [2220+539,428+90,8,8]"
   ]
  },
  {
   "cell_type": "code",
   "execution_count": null,
   "metadata": {},
   "outputs": [],
   "source": [
    "def get_screen(roi):\n",
    "    '''Get screen with Xlib from roi (startX, startY, width, heigh)'''\n",
    "    raw = root.get_image(roi[0], roi[1], roi[2],roi[3], X.ZPixmap, 0xffffffff)\n",
    "    image = Image.frombytes(\"RGB\", (roi[2], roi[3]), raw.data, \"raw\", \"BGRX\")\n",
    "    image = np.array(image.getdata(),dtype='uint8')\\\n",
    "    .reshape((image.size[1],image.size[0],3))\n",
    "    return image"
   ]
  },
  {
   "cell_type": "code",
   "execution_count": null,
   "metadata": {},
   "outputs": [],
   "source": [
    "def MeanShift(img):\n",
    "    res = cv2.pyrMeanShiftFiltering(img, 1, 50)\n",
    "    return res\n",
    "\n",
    "import pickle\n",
    "\n",
    "with open('km.pickle', 'rb') as f:\n",
    "    \"\"\"Loading pretrained k-means\"\"\"\n",
    "    km = pickle.load(f)\n",
    "\n",
    "def use_km(img, orig_img):\n",
    "        #get indeces of non-ziro color\n",
    "        indices = np.argwhere(img>1)\n",
    "        \"\"\"\n",
    "        Cluster prediction\n",
    "        Clusters 2 and 3 are marking lines, others are noise\n",
    "        \"\"\"\n",
    "        try:\n",
    "            \"\"\"\n",
    "            Gets the pixels belonging to the line clusters\n",
    "            \"\"\"\n",
    "            lines = km.predict(indices)\n",
    "            left_indx = np.argwhere(lines==1)\n",
    "            right_indx = np.argwhere((lines==0) | (lines==2))\n",
    "            \"\"\"\n",
    "            Get pixel coordinates of lines\n",
    "            \"\"\"\n",
    "            left = np.take(indices, left_indx, axis=0).reshape(left_indx.shape[0], 2)\n",
    "            right = np.take(indices, right_indx, axis=0).reshape(right_indx.shape[0], 2)\n",
    "            \"\"\"\n",
    "            and fill them with color\n",
    "            other pixels are set to zero\n",
    "            \"\"\"\n",
    "            orig_img[:, :] = 0\n",
    "            orig_img[right[:,0], right[:,1]] = 255\n",
    "            orig_img[left[:,0], left[:,1]] = 255\n",
    "            \n",
    "        except:\n",
    "            orig_img[:, :] =0\n",
    "            \n",
    "        return orig_img\n",
    "\n",
    "def calc_dif(img, delta=1):\n",
    "    gray = np.apply_along_axis(lambda x: np.average(x), 1, img)\n",
    "    objects = []\n",
    "    for idx, (x0, x1) in enumerate(zip(gray[:-1], gray[1:])):\n",
    "        if (x1-x0)>delta:\n",
    "            objects.append(idx)\n",
    "    return objects\n",
    "\n",
    "def img_proceed(roi):\n",
    "    '''\n",
    "    processing image: \n",
    "    resize->mean shift->gray->blur->trashhold->dilate->k-means\n",
    "    The image is taken from Get_screen process\n",
    "    '''\n",
    "    orig_img = get_screen(roi)\n",
    "        \n",
    "    orig_img = cv2.resize(orig_img, (256,256))\n",
    "    \n",
    "    orig_img = MeanShift(orig_img)\n",
    "        \n",
    "    gray = cv2.cvtColor(orig_img, cv2.COLOR_RGB2GRAY)\n",
    "        \n",
    "    processed_img = cv2.GaussianBlur(gray, (5, 5), 0)\n",
    "    processed_img = cv2.adaptiveThreshold(processed_img, 255, cv2.ADAPTIVE_THRESH_MEAN_C, cv2.THRESH_BINARY, 25, -22)\n",
    "    processed_img = cv2.dilate(processed_img, None, iterations = 1)\n",
    "        \n",
    "    #removing noise by using k-means\n",
    "    processed_img = use_km(processed_img, processed_img)\n",
    "        \n",
    "    return processed_img\n"
   ]
  },
  {
   "cell_type": "code",
   "execution_count": null,
   "metadata": {},
   "outputs": [],
   "source": [
    "joy = LinuxVirtualJoystick()\n",
    "# multiply by constant to undo normalization\n",
    "OUTPUT_NORMALIZATION = 32767"
   ]
  },
  {
   "cell_type": "code",
   "execution_count": null,
   "metadata": {},
   "outputs": [],
   "source": [
    "def get_angle(predict, coef):\n",
    "    \"\"\"\n",
    "    Set normalised wheel's angle,\n",
    "    corrected by speed's coefficient\n",
    "    \"\"\"\n",
    "    angle = predict\n",
    "    angle *= OUTPUT_NORMALIZATION*(coef/100)\n",
    "    try:\n",
    "        return int(angle)\n",
    "    except:\n",
    "        return 0"
   ]
  },
  {
   "cell_type": "code",
   "execution_count": null,
   "metadata": {},
   "outputs": [],
   "source": [
    "\"\"\"\n",
    "x - gear number\n",
    "y - wheel's coefficient \n",
    "\n",
    "\"\"\"\n",
    "x = [7,8,9,10]\n",
    "y = [200, 150, 145, 140]\n",
    "z = np.polyfit(x, y, 3)\n",
    "p = np.poly1d(z)\n",
    "\n",
    "def set_coef(gear):\n",
    "    return int(p(gear[0]))"
   ]
  },
  {
   "cell_type": "code",
   "execution_count": null,
   "metadata": {},
   "outputs": [],
   "source": [
    "import pickle\n",
    "with open('tree.pickle', 'rb') as f:\n",
    "    \"\"\"Loading pretrained pandom forest model for angle prediction\"\"\"\n",
    "    tree = pickle.load(f)\n",
    "    \n",
    "with open('geartree.pickle', 'rb') as f:\n",
    "    \"\"\"Loading pretrained decision tree model for gear number recognition\"\"\"\n",
    "    treec = pickle.load(f)"
   ]
  },
  {
   "cell_type": "markdown",
   "metadata": {},
   "source": [
    "The main loop in which the image preprocessing function is called is recognized by the number of the gear engaged and the prediction of the model for the steering wheel angle is obtained."
   ]
  },
  {
   "cell_type": "code",
   "execution_count": null,
   "metadata": {
    "scrolled": false
   },
   "outputs": [],
   "source": [
    "while 1:\n",
    "    gear = get_screen(gear_roi)   \n",
    "    gear = cv2.cvtColor(gear, cv2.COLOR_RGB2GRAY)\n",
    "    coef = set_coef(treec.predict([gear.ravel()]))\n",
    "    \n",
    "    result_img = img_proceed(roi)\n",
    "    res = cv2.resize(result_img, (128,128))\n",
    "    res = res.reshape(1, 128*128)\n",
    "\n",
    "    pred = tree.predict(res)\n",
    "\n",
    "    angle = get_angle(pred[0], coef)\n",
    "\n",
    "    joy.emit(angle, clutch=4000)\n",
    "    cv2.imshow('frame', result_img)\n",
    "    cv2.imshow('Gear', gear)\n",
    "    \n",
    "    if cv2.waitKey(1) & 0xFF == ord('q'):\n",
    "        break\n",
    "cv2.destroyAllWindows()"
   ]
  }
 ],
 "metadata": {
  "kernelspec": {
   "display_name": "Python 3",
   "language": "python",
   "name": "python3"
  },
  "language_info": {
   "codemirror_mode": {
    "name": "ipython",
    "version": 3
   },
   "file_extension": ".py",
   "mimetype": "text/x-python",
   "name": "python",
   "nbconvert_exporter": "python",
   "pygments_lexer": "ipython3",
   "version": "3.6.8"
  }
 },
 "nbformat": 4,
 "nbformat_minor": 2
}
